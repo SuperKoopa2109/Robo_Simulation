{
 "cells": [
  {
   "cell_type": "code",
   "execution_count": 1,
   "id": "558d61a2",
   "metadata": {},
   "outputs": [],
   "source": [
    "import numpy as np\n",
    "import matplotlib.pyplot as plt\n",
    "import matplotlib.patches as patches\n",
    "import matplotlib.image as image\n",
    "from PIL import Image\n",
    "from matplotlib.offsetbox import (OffsetImage, AnnotationBbox)\n",
    "\n",
    "import math"
   ]
  },
  {
   "cell_type": "code",
   "execution_count": 2,
   "id": "79d06ced",
   "metadata": {},
   "outputs": [],
   "source": [
    "from env import (RoboMap, Object, Robot)"
   ]
  },
  {
   "cell_type": "code",
   "execution_count": 3,
   "id": "b28dee23",
   "metadata": {},
   "outputs": [],
   "source": [
    "# im = Image.open('media/robo.png')\n",
    "# plt.imshow(im)"
   ]
  },
  {
   "cell_type": "code",
   "execution_count": 8,
   "id": "deeb2723",
   "metadata": {
    "scrolled": false
   },
   "outputs": [],
   "source": [
    "len_lidar_arr = np.random.randint(0,300)\n",
    "# scan_ranges = np.random."
   ]
  },
  {
   "cell_type": "markdown",
   "id": "32e5a714",
   "metadata": {},
   "source": [
    "Assume that the Map ranges from 0m to 2m distance. In a continuous space."
   ]
  },
  {
   "cell_type": "code",
   "execution_count": 9,
   "id": "d57f5bbb",
   "metadata": {},
   "outputs": [
    {
     "data": {
      "text/plain": [
       "<Figure size 1000x1000 with 0 Axes>"
      ]
     },
     "execution_count": 9,
     "metadata": {},
     "output_type": "execute_result"
    },
    {
     "data": {
      "text/plain": [
       "<Figure size 1000x1000 with 0 Axes>"
      ]
     },
     "metadata": {},
     "output_type": "display_data"
    }
   ],
   "source": [
    "plt.figure(figsize=(10,10))\n",
    "#plt.plot()"
   ]
  },
  {
   "cell_type": "code",
   "execution_count": 10,
   "id": "9880c9f9",
   "metadata": {
    "scrolled": true
   },
   "outputs": [
    {
     "data": {
      "text/plain": [
       "[]"
      ]
     },
     "execution_count": 10,
     "metadata": {},
     "output_type": "execute_result"
    },
    {
     "data": {
      "image/png": "[encoded data removed]",
      "text/plain": [
       "<Figure size 640x480 with 1 Axes>"
      ]
     },
     "metadata": {},
     "output_type": "display_data"
    }
   ],
   "source": [
    "fig, ax = plt.subplots()\n",
    "\n",
    "# Add robot to axis\n",
    "robo_file = 'media/robo.png'\n",
    "robo = image.imread(robo_file)\n",
    "#The OffsetBox is a simple container artist.\n",
    "#The child artists are meant to be drawn at a relative position to its #parent.\n",
    "imagebox = OffsetImage(robo, zoom = 1)\n",
    "#Annotation box for solar pv logo\n",
    "#Container for the imagebox referring to a specific position *xy*.\n",
    "ab = AnnotationBbox(imagebox, (0, 0), frameon = False)\n",
    "ax.add_artist(ab)\n",
    "\n",
    "ax.plot()"
   ]
  },
  {
   "cell_type": "code",
   "execution_count": null,
   "id": "929c8d0d",
   "metadata": {},
   "outputs": [],
   "source": []
  },
  {
   "cell_type": "code",
   "execution_count": 253,
   "id": "9bf4ae64",
   "metadata": {},
   "outputs": [
    {
     "data": {
      "text/plain": [
       "array([ 1., -1.])"
      ]
     },
     "execution_count": 253,
     "metadata": {},
     "output_type": "execute_result"
    }
   ],
   "source": [
    "theta = math.radians(90)\n",
    "\n",
    "rot_mat = np.array([[np.cos(theta), np.sin(theta)],[-np.sin(theta), np.cos(theta)]])\n",
    "v = np.array([1,1])\n",
    "\n",
    "rot_mat @ v"
   ]
  },
  {
   "cell_type": "code",
   "execution_count": 270,
   "id": "46524b54",
   "metadata": {},
   "outputs": [
    {
     "data": {
      "text/plain": [
       "0"
      ]
     },
     "execution_count": 270,
     "metadata": {},
     "output_type": "execute_result"
    }
   ],
   "source": [
    "fn = lambda x: np.array([-x[1], x[0]])\n",
    "fn(np.array([0,-1])).dot(np.array([0,1]))"
   ]
  },
  {
   "cell_type": "code",
   "execution_count": 271,
   "id": "6e69171d",
   "metadata": {},
   "outputs": [],
   "source": [
    "def perp(a ) :\n",
    "    b = np.empty_like(a)\n",
    "    b[0] = -a[1]\n",
    "    b[1] = a[0]\n",
    "    return b"
   ]
  },
  {
   "cell_type": "code",
   "execution_count": 272,
   "id": "4f9a2c07",
   "metadata": {},
   "outputs": [],
   "source": [
    "A = np.array([[0,0],[2,0]])\n",
    "B = np.array([[1,-1],[1,1]])\n",
    "\n",
    "a1, a2 = A\n",
    "b1, b2 = B\n",
    "\n",
    "origin_a = {'x': a1[0], 'y': a1[1]} #a1\n",
    "dir_a = {'x': (a2 - a1)[0], 'y': (a2 - a1)[1]} #a2 - a1\n",
    "origin_b = {'x': b1[0], 'y': b1[1]} #b1\n",
    "dir_b = {'x': (b2 - a1)[0], 'y': (b2 - a1)[1]} #b2 - a1\n",
    "\n",
    "# intersection point p\n",
    "p = {'x': np.zeros(2), 'y': np.zeros(2)}\n",
    "#p.x = \n",
    "\n",
    "#origin_b + dir_b * s = origin_a + dir_a * t\n"
   ]
  },
  {
   "cell_type": "code",
   "execution_count": 273,
   "id": "a2c61e4d",
   "metadata": {},
   "outputs": [],
   "source": [
    "# def do_rays_intersect(a1, a2, b1, b2):\n",
    "#     u = (a1[1] * b2[0] + b2[1] * a2[0] - a2[1] * b2[0] - b2[1] * a1[0]) / (b1[0] * b2[1] - b1[1] * b2[0])\n",
    "#     (a1[0] + b1[0] * u - a2[0]) / "
   ]
  },
  {
   "cell_type": "code",
   "execution_count": 274,
   "id": "ec9fd3cd",
   "metadata": {},
   "outputs": [
    {
     "data": {
      "text/plain": [
       "array([1., 0.])"
      ]
     },
     "execution_count": 274,
     "metadata": {},
     "output_type": "execute_result"
    }
   ],
   "source": [
    "def get_intersect(a1,a2, b1,b2) :\n",
    "    da = a2-a1\n",
    "    db = b2-b1\n",
    "    dp = a1-b1\n",
    "    dap = perp(da)\n",
    "    denom = np.dot( dap, db)\n",
    "    num = np.dot( dap, dp )\n",
    "    intersec = (num / denom)*db + b1\n",
    "    \n",
    "A = np.array([[0,0],[2,0]])\n",
    "B = np.array([[1,-1],[1,1]])\n",
    "\n",
    "a1, a2 = A\n",
    "b1, b2 = B\n",
    "\n",
    "\n",
    "da = a2-a1\n",
    "db = b2-b1\n",
    "dp = a1-b1\n",
    "\n",
    "c = np.empty_like(da)\n",
    "c[0] = -da[1]\n",
    "c[1] = da[0]\n",
    "\n",
    "dap = c\n",
    "\n",
    "denom = np.dot(dap, db)\n",
    "\n",
    "num = np.dot(dap, dp)\n",
    "\n",
    "intersec = (num/denom)*db + b1\n",
    "intersec\n",
    "\n",
    "#perp(da)\n",
    "\n"
   ]
  },
  {
   "cell_type": "code",
   "execution_count": 306,
   "id": "9164efda",
   "metadata": {},
   "outputs": [],
   "source": [
    "class Robot():\n",
    "    def __init__(self, origin, vel, rot = np.pi, laser_range = 5, total_lidar_scans = 10, lidar_scan_std = 5):\n",
    "        self.X, self.Y = origin\n",
    "        self.vel = vel # velocity in m/s\n",
    "        self.rot = rot\n",
    "        self.angle = rot\n",
    "        self.laser_range = laser_range\n",
    "        \n",
    "        self.ranges = np.zeros([total_lidar_scans + np.random.randint(lidar_scan_std),2,2])\n",
    "        self._calc_lidar_ranges()\n",
    "        \n",
    "        \n",
    "    def move(self, time):\n",
    "        \"\"\" time in seconds \"\"\"\n",
    "        for t in range(time):\n",
    "            self.X += round(self.get_ank(self.angle, self.vel), 2)\n",
    "            self.Y += round(self.get_gek(self.angle, self.vel), 2)\n",
    "        return self.X, self.Y\n",
    "    \n",
    "    def rotate(self, angle):\n",
    "        \"\"\" time in seconds \"\"\"\n",
    "        self.angle += angle\n",
    "        \n",
    "    def get_ank(self, angle, hyp):\n",
    "        return np.cos(angle) * hyp\n",
    "\n",
    "    def get_gek(self, angle, hyp):\n",
    "        return np.sin(angle) * hyp\n",
    "    \n",
    "    def _rotate_vector(self, theta, v):\n",
    "        rot_matr = np.array([[np.cos(theta), np.sin(theta)],[-np.sin(theta), np.cos(theta)]])\n",
    "        return rot_matr @ v\n",
    "    \n",
    "    def _calc_lidar_ranges(self):\n",
    "        #ranges = np.zeros([,2])\n",
    "        for i in range(self.ranges.shape[0]):\n",
    "            ang = i * ( (2 * np.pi) / len(self.ranges) )\n",
    "            startp = np.array([self.X, self.Y])\n",
    "            endp = startp + self._rotate_vector(ang, self.laser_range * np.array([1, 0]))\n",
    "            vec = np.array([startp, endp])\n",
    "            \n",
    "            self.ranges[i] = vec\n",
    "            \n",
    "        #self.ranges = np.array([i * ( (2 * np.pi) / len(self.ranges) ) for i in range(len(self.ranges))])\n",
    "        \n",
    "    def get_lidar_ranges(self): #, robomap):\n",
    "        return self.ranges\n",
    "    \n",
    "        #self.ranges = []\n",
    "        #for i in range(365):\n",
    "        #    1/i * (np.pi * 2) "
   ]
  },
  {
   "cell_type": "code",
   "execution_count": 9,
   "id": "2c9fc84a",
   "metadata": {},
   "outputs": [],
   "source": [
    "class RoboMap():\n",
    "    \"\"\"Class for whole map, which contains multiple Objects\n",
    "        width: in m\n",
    "        height: in m\"\"\"\n",
    "    def __init__(self, width, height, plot_scale=0.5):\n",
    "        self.width = width\n",
    "        self.height = height\n",
    "        self.objects = []\n",
    "        self.plot_scale = plot_scale\n",
    "        \n",
    "    def get_width(self):\n",
    "        return self.width\n",
    "    \n",
    "    def get_height(self):\n",
    "        return self.height\n",
    "    \n",
    "    def add_object(self, obj):\n",
    "        self.objects.append(obj)\n",
    "        \n",
    "    def get_objects(self):\n",
    "        return self.objects\n",
    "    \n",
    "    def add_robo(self, robo):\n",
    "        self.robo = robo\n",
    "    \n",
    "    # source: https://web.archive.org/web/20111108065352/https://www.cs.mun.ca/~rod/2500/notes/numpy-arrays/numpy-arrays.html\n",
    "    #\n",
    "    # line segment intersection using vectors\n",
    "    # see Computer Graphics by F.S. Hill\n",
    "    #\n",
    "    def perp(self, a ) :\n",
    "        b = np.empty_like(a)\n",
    "        b[0] = -a[1]\n",
    "        b[1] = a[0]\n",
    "        return b\n",
    "\n",
    "    # line segment a given by endpoints a1, a2\n",
    "    # line segment b given by endpoints b1, b2\n",
    "    # return \n",
    "    def get_intersect(self, a1,a2, b1,b2) :\n",
    "        da = a2-a1\n",
    "        db = b2-b1\n",
    "        dp = a1-b1\n",
    "        dap = self.perp(da)\n",
    "        denom = np.dot( dap, db)\n",
    "        num = np.dot( dap, dp )\n",
    "        if denom == 0:\n",
    "            return None\n",
    "        intersec = (num / denom)*db + b1\n",
    "\n",
    "        delta = 1e-3\n",
    "\n",
    "        # check if calculated intersection is actually between the lines\n",
    "        condx_a = min(a1[0], a2[0])-delta <= intersec[0] and max(a1[0], a2[0])+delta >= intersec[0] #within line segment a1_x-a2_x\n",
    "        condx_b = min(b1[0], b2[0])-delta <= intersec[0] and max(b1[0], b2[0])+delta >= intersec[0] #within line segment b1_x-b2_x\n",
    "        condy_a = min(a1[1], a2[1])-delta <= intersec[1] and max(a1[1], a2[1])+delta >= intersec[1] #within line segment a1_y-b1_y\n",
    "        condy_b = min(b1[1], b2[1])-delta <= intersec[1] and max(b1[1], b2[1])+delta >= intersec[1] #within line segment a2_y-b2_y\n",
    "        if not (condx_a and condy_a and condx_b and condy_b):\n",
    "            intersec = None #line segments do not intercept i.e. interception is away from from the line segments\n",
    "\n",
    "        return intersec\n",
    "    \n",
    "    def _draw_scatter(self, ax, data):\n",
    "        if len(data.shape) == 1:\n",
    "            ax.scatter([data[0]], [data[1]])\n",
    "        else:\n",
    "            ax.scatter(data[0,:], data[1,:])\n",
    "    \n",
    "    def _draw_line(self, ax, startp, endp, c='black', ls='-'):\n",
    "        ax.plot([startp[0], endp[0]], [startp[1], endp[1]], c=c, ls=ls)\n",
    "        \n",
    "    \n",
    "    def draw_map(self, show_lidar=False):\n",
    "        # function to plot the map using matplotlib\n",
    "        \n",
    "        # Create figure and axes\n",
    "        fig, ax = plt.subplots(figsize = (self.width * self.plot_scale + 2, self.height * self.plot_scale + 2))\n",
    "\n",
    "        # Add outlines of map as rectangle\n",
    "        rect = patches.Rectangle((0, 0), self.width, self.height, linewidth=1, edgecolor='b', facecolor='none')\n",
    "        ax.add_patch(rect)\n",
    "        \n",
    "        # Add objects to map\n",
    "        all_segments = []\n",
    "        for obj in self.objects:\n",
    "            all_segments.append(obj.get_points())\n",
    "            rect = patches.Rectangle((obj.pos[0], obj.pos[1]), obj.shape[0], obj.shape[1], linewidth=1, edgecolor='g', facecolor='none')\n",
    "            ax.add_patch(rect)\n",
    "            \n",
    "        all_segments = np.array(all_segments)\n",
    "        all_segments = all_segments.reshape(all_segments.shape[0] * all_segments.shape[1], all_segments.shape[2], all_segments.shape[3])\n",
    "            \n",
    "        # Add robot to axis\n",
    "        robo_file = 'media/robo.png'\n",
    "        robo = image.imread(robo_file)\n",
    "        #The OffsetBox is a simple container artist.\n",
    "        #The child artists are meant to be drawn at a relative position to its #parent.\n",
    "        imagebox = OffsetImage(robo, zoom = 0.5)\n",
    "        #Annotation box for solar pv logo\n",
    "        #Container for the imagebox referring to a specific position *xy*.\n",
    "        ab = AnnotationBbox(imagebox, (self.robo.X, self.robo.Y), frameon = False)\n",
    "        ax.add_artist(ab)\n",
    "        \n",
    "        # show lidar scans\n",
    "        if show_lidar:\n",
    "            total_scans = self.robo.ranges.shape[0]\n",
    "            \n",
    "            \n",
    "            for laser in self.robo.get_lidar_ranges():\n",
    "            #for i in range(total_scans + 1):\n",
    "                \n",
    "                #xy_ij_max = xy_robot + np.array([max_dist*np.cos(theta), max_dist*np.sin(theta)]) # max possible distance\n",
    "                \n",
    "#                 startx = self.robo.X\n",
    "#                 starty = self.robo.Y\n",
    "#                 startpos = np.array([startx, starty])\n",
    "                \n",
    "#                 endx = self.robo.X + (self.width - self.robo.X) * np.sin(i * (2 * np.pi) / total_scans)\n",
    "#                 endy = self.robo.Y + (self.height - self.robo.Y) * np.cos(i * (2 * np.pi) / total_scans)\n",
    "#                 endpos = np.array([endx, endy])\n",
    "\n",
    "#                 startpos = np.array([self.robo.X, self.robo.Y])\n",
    "                \n",
    "                #angle = i * (2 * np.pi) / total_scans\n",
    "                #print(math.degrees(angle))\n",
    "            \n",
    "                # Rotation of vectors: https://matthew-brett.github.io/teaching/rotation_2d.html\n",
    "                \n",
    "                \n",
    "#                 endx = np.cos(angle) * self.width - np.sin(angle) * self.height\n",
    "#                 endy = np.sin(angle) * self.width + np.cos(angle) * self.height\n",
    "#                 endpos = np.array([endx, endy])\n",
    "#                 print(f'{i}: {endpos}')\n",
    "                \n",
    "                # calculated earlier\n",
    "                #all_segments = np.array([obj.get_points() for obj in self.objects])\n",
    "                #all_segments.flatten()\n",
    "                \n",
    "                #for seg in all_segments:\n",
    "                #print(np.array( [ self.get_intersect(startpos, endpos, seg[0], seg[1]) for seg in all_segments ], dtype=object))\n",
    "                \n",
    "                startpos, endpos = laser\n",
    "                \n",
    "                all_intersecs = []\n",
    "                \n",
    "                ray_intersec = None\n",
    "                min_d = np.linalg.norm(endpos - startpos)\n",
    "                \n",
    "                for seg in all_segments:\n",
    "                    \n",
    "                    intersec = self.get_intersect(startpos, endpos, seg[0], seg[1])\n",
    "                    if intersec is not None:\n",
    "                        # get L2 length of vector\n",
    "                        d = np.linalg.norm(intersec - startpos)\n",
    "                        if d < min_d:\n",
    "                            min_d = d\n",
    "                            ray_intersec = intersec\n",
    "                            \n",
    "                if ray_intersec is not None:\n",
    "                    #print(f'ray_intersec {ray_intersec}')\n",
    "                    #print(f'ray_intersec.shape {ray_intersec.shape}')\n",
    "                    self._draw_scatter(ax, ray_intersec)\n",
    "                    #ax.scatter([ray_intersec[0]/2], [ray_intersec[1]/2])        \n",
    "                    \n",
    "                #intersec = [self.get_intersect(startpos, endpos, seg[0], seg[1]) for seg in all_segments]\n",
    "                \n",
    "                self._draw_line(ax, startpos, endpos, ls='--')\n",
    "                #ax.plot([startx/2, endx/2], [starty/2, endy/2], c='black', ls='--')\n",
    "        \n",
    "        # set axis dimensions\n",
    "        ax.set_xlim([0 - 1/self.plot_scale, (self.width + 1/self.plot_scale) * self.plot_scale + 1 + 1])\n",
    "        ax.set_xticks(np.arange(0 - 1/self.plot_scale, self.width + 2/self.plot_scale, 1 / self.plot_scale))\n",
    "        ax.set_ylim([0 - 1/self.plot_scale, (self.height + 1/self.plot_scale) * self.plot_scale + 1])\n",
    "        ax.set_yticks(np.arange(0 - 1/self.plot_scale, self.height + 2/self.plot_scale, 1 / self.plot_scale))\n",
    "        \n",
    "        fig.savefig('robo_sim.png')\n",
    "        \n",
    "        return ax\n",
    "    \n",
    "\n",
    "class Object():\n",
    "    \"\"\"Object class for Objects in a 2D space\"\"\"\n",
    "    def __init__(self, pos=(0,0), shape=(0,0), random=True): #X=0, Y=0, width=0, height=0\n",
    "        if random:\n",
    "            pos, shape = self.generate_randomly() #X, Y, width, height\n",
    "        self.pos = np.array(pos)\n",
    "        self.shape = np.array(shape)\n",
    "        \n",
    "        #self.X = X\n",
    "        #self.Y = Y\n",
    "        #self.width = width\n",
    "        #self.height = height\n",
    "    \n",
    "    \n",
    "    def generate_randomly(self, map_wid = 20, map_hei = 20, min_wid = 1, min_hei = 1):\n",
    "        X = int(np.random.rand() * (map_wid - min_wid))\n",
    "        Y = int(np.random.rand() * (map_hei - min_hei))\n",
    "        width = np.random.randint(min_wid, map_wid - X ) #* 0.01 # scale width in cm\n",
    "        height = np.random.randint(min_hei, map_hei - Y) #* 0.01 # scale height in cm\n",
    "        return (X, Y), (width, height)\n",
    "    \n",
    "    def get_points(self):\n",
    "        \"\"\"\n",
    "        returns segments for each side of object\n",
    "        bottom, left, up, right\n",
    "        \"\"\"\n",
    "        \n",
    "        wid_shift = np.zeros(self.pos.shape[0])\n",
    "        wid_shift[0] = self.shape[0]\n",
    "        heig_shift = np.zeros(self.pos.shape[0])\n",
    "        heig_shift[1] = self.shape[1]\n",
    "        \n",
    "        seg_bottom = [self.pos, self.pos + wid_shift]\n",
    "        seg_left = [self.pos, self.pos + heig_shift]\n",
    "        seg_right = [self.pos + wid_shift, self.pos + wid_shift + heig_shift]\n",
    "        seg_top = [self.pos + heig_shift, self.pos + wid_shift + heig_shift]\n",
    "        \n",
    "        \n",
    "        return [seg_bottom, seg_left, seg_right, seg_top]\n",
    "    \n",
    "\n",
    "        \n",
    "        "
   ]
  },
  {
   "cell_type": "code",
   "execution_count": 10,
   "id": "7a8a4cfe",
   "metadata": {},
   "outputs": [
    {
     "data": {
      "text/plain": [
       "array([1.])"
      ]
     },
     "execution_count": 10,
     "metadata": {},
     "output_type": "execute_result"
    }
   ],
   "source": [
    "arr = np.array([1,2], dtype=np.float64)\n",
    "arr[0].reshape(1)"
   ]
  },
  {
   "cell_type": "code",
   "execution_count": 3,
   "id": "23a2d356",
   "metadata": {},
   "outputs": [],
   "source": [
    "rbMap = RoboMap(20, 20)\n",
    "rbMap.add_object(Object())\n",
    "rbMap.add_object(Object())\n",
    "rbMap.add_robo(Robot(origin=(10,10), vel=0.05))"
   ]
  },
  {
   "cell_type": "code",
   "execution_count": 4,
   "id": "5c1a69f0",
   "metadata": {},
   "outputs": [],
   "source": [
    "#from env import (RoboMap, Object)"
   ]
  },
  {
   "cell_type": "code",
   "execution_count": 11,
   "id": "f217cb90",
   "metadata": {
    "scrolled": false
   },
   "outputs": [
    {
     "data": {
      "text/plain": [
       "[]"
      ]
     },
     "execution_count": 11,
     "metadata": {},
     "output_type": "execute_result"
    },
    {
     "data": {
      "image/png": "[encoded data removed]",
      "text/plain": [
       "<Figure size 1200x1200 with 1 Axes>"
      ]
     },
     "metadata": {},
     "output_type": "display_data"
    }
   ],
   "source": [
    "#print(rbMap.get_objects()[0].get_points())\n",
    "\n",
    "\n",
    "rbMap.draw_map(show_lidar = True).plot()"
   ]
  },
  {
   "cell_type": "markdown",
   "id": "a5c393cb",
   "metadata": {},
   "source": [
    "\n",
    "## Pygame version"
   ]
  },
  {
   "cell_type": "code",
   "execution_count": 104,
   "id": "81f24261",
   "metadata": {},
   "outputs": [],
   "source": [
    "import matplotlib.pyplot as plt"
   ]
  },
  {
   "cell_type": "code",
   "execution_count": 114,
   "id": "12f8a36e",
   "metadata": {
    "scrolled": true
   },
   "outputs": [
    {
     "data": {
      "text/plain": [
       "<matplotlib.collections.PathCollection at 0x22375b03220>"
      ]
     },
     "execution_count": 114,
     "metadata": {},
     "output_type": "execute_result"
    },
    {
     "data": {
      "image/png": "[encoded data removed]",
      "text/plain": [
       "<Figure size 640x480 with 1 Axes>"
      ]
     },
     "metadata": {},
     "output_type": "display_data"
    }
   ],
   "source": [
    "fig = plt.figure()\n",
    "\n",
    "ax = fig.add_subplot(111)\n",
    "\n",
    "#ax.scatter(connected_components[:, 0], connected_components[:, 1], marker='.', c='y', edgecolor='', alpha=0.2)\n",
    "ax.scatter([1,2,3],[4,5,6], marker='.', c='y', edgecolor='none', alpha=0.8)"
   ]
  },
  {
   "cell_type": "markdown",
   "id": "139f1977",
   "metadata": {},
   "source": [
    "------"
   ]
  },
  {
   "cell_type": "code",
   "execution_count": 64,
   "id": "39e22a9d",
   "metadata": {},
   "outputs": [],
   "source": [
    "class Filter():\n",
    "    def __init__(self):\n",
    "        pass\n",
    "        \n",
    "# Particle Filter / Sequential Importance Resampling\n",
    "class SIR(Filter):\n",
    "    def __init__(self):\n",
    "        super().__init__()\n",
    "        \n",
    "    def filter(self, X):\n",
    "        M = len(X)\n",
    "        X_t = np.zeros(M)\n",
    "        X_t_bar = np.zeros(M)\n",
    "        \n",
    "        for m in range(M):\n",
    "            np.random.\n",
    "        #X.count()\n",
    "        "
   ]
  },
  {
   "cell_type": "markdown",
   "id": "f6756163",
   "metadata": {},
   "source": [
    "## 2D Point Cloud"
   ]
  },
  {
   "cell_type": "markdown",
   "id": "2f2826c4",
   "metadata": {},
   "source": [
    "### 2D line segment intersection"
   ]
  },
  {
   "cell_type": "code",
   "execution_count": 124,
   "id": "9f1e6cac",
   "metadata": {},
   "outputs": [
    {
     "data": {
      "text/plain": [
       "[<matplotlib.lines.Line2D at 0x22378448b50>]"
      ]
     },
     "execution_count": 124,
     "metadata": {},
     "output_type": "execute_result"
    },
    {
     "data": {
      "image/png": "[encoded data removed]",
      "text/plain": [
       "<Figure size 640x480 with 1 Axes>"
      ]
     },
     "metadata": {},
     "output_type": "display_data"
    }
   ],
   "source": [
    "A = np.array([[1,1],[1,5]], dtype=np.float32)\n",
    "B = np.array([[0,3],[5,3]], dtype=np.float32)\n",
    "\n",
    "plt.plot(A[:,0], A[:,1])\n",
    "plt.plot(B[:,0], B[:,1])"
   ]
  },
  {
   "cell_type": "code",
   "execution_count": 128,
   "id": "cbc0a1a8",
   "metadata": {},
   "outputs": [
    {
     "data": {
      "text/plain": [
       "array([1., 3.], dtype=float32)"
      ]
     },
     "execution_count": 128,
     "metadata": {},
     "output_type": "execute_result"
    }
   ],
   "source": [
    "# source: https://web.archive.org/web/20111108065352/https://www.cs.mun.ca/~rod/2500/notes/numpy-arrays/numpy-arrays.html\n",
    "#\n",
    "# line segment intersection using vectors\n",
    "# see Computer Graphics by F.S. Hill\n",
    "#\n",
    "def perp( a ) :\n",
    "    b = np.empty_like(a)\n",
    "    b[0] = -a[1]\n",
    "    b[1] = a[0]\n",
    "    return b\n",
    "\n",
    "# line segment a given by endpoints a1, a2\n",
    "# line segment b given by endpoints b1, b2\n",
    "# return \n",
    "def get_intersect(a1,a2, b1,b2) :\n",
    "    da = a2-a1\n",
    "    db = b2-b1\n",
    "    dp = a1-b1\n",
    "    dap = perp(da)\n",
    "    denom = np.dot( dap, db)\n",
    "    num = np.dot( dap, dp )\n",
    "    intersec = (num / denom)*db + b1\n",
    "\n",
    "    delta = 1e-3\n",
    "    \n",
    "    # check if calculated intersection is actually between the lines\n",
    "    condx_a = min(a1[0], a2[0])-delta <= intersec[0] and max(a1[0], a2[0])+delta >= intersec[0] #within line segment a1_x-a2_x\n",
    "    condx_b = min(b1[0], b2[0])-delta <= intersec[0] and max(b1[0], b2[0])+delta >= intersec[0] #within line segment b1_x-b2_x\n",
    "    condy_a = min(a1[1], a2[1])-delta <= intersec[1] and max(a1[1], a2[1])+delta >= intersec[1] #within line segment a1_y-b1_y\n",
    "    condy_b = min(b1[1], b2[1])-delta <= intersec[1] and max(b1[1], b2[1])+delta >= intersec[1] #within line segment a2_y-b2_y\n",
    "    if not (condx_a and condy_a and condx_b and condy_b):\n",
    "        intersec = None #line segments do not intercept i.e. interception is away from from the line segments\n",
    "\n",
    "    return intersec\n",
    "\n",
    "get_intersect(A[0], A[1], B[0], B[1])\n",
    "# p1 = np.array( [0.0, 0.0] )\n",
    "# p2 = np.array( [1.0, 0.0] )\n",
    "\n",
    "# p3 = np.array( [4.0, -5.0] )\n",
    "# p4 = np.array( [4.0, 2.0] )\n",
    "\n",
    "# print seg_intersect( p1,p2, p3,p4)\n",
    "\n",
    "# p1 = np.array( [2.0, 2.0] )\n",
    "# p2 = np.array( [4.0, 3.0] )\n",
    "\n",
    "# p3 = np.array( [6.0, 0.0] )\n",
    "# p4 = np.array( [6.0, 3.0] )\n",
    "\n",
    "\n",
    "# print(seg_intersect( p1,p2, p3,p4))"
   ]
  },
  {
   "cell_type": "code",
   "execution_count": null,
   "id": "0d875d13",
   "metadata": {},
   "outputs": [],
   "source": [
    "rbMap = RoboMap(20, 20)\n",
    "rbMap.add_object(Object())\n",
    "rbMap.add_robo(Robot(origin=(5,5), vel=0.05))\n",
    "rbMap.draw_map(show_lidar = True).plot()"
   ]
  },
  {
   "cell_type": "code",
   "execution_count": 24,
   "id": "dea6f872",
   "metadata": {
    "scrolled": true
   },
   "outputs": [
    {
     "data": {
      "text/plain": [
       "array([-0.1 , -0.66, -0.57,  0.27,  0.52, -0.19, -0.67,  0.84,  0.15,\n",
       "        0.69, -0.27,  0.75, -0.33,  0.91, -0.3 , -0.19,  0.41,  0.05,\n",
       "       -0.46,  0.81, -0.64,  0.1 ,  0.96,  0.15, -0.82, -0.08, -0.58,\n",
       "       -0.49, -0.89,  0.92, -0.4 , -0.65, -0.27, -0.57, -0.99, -0.64,\n",
       "        0.05,  0.11,  0.2 ,  0.24,  0.92, -0.88, -0.92,  0.72, -0.6 ,\n",
       "        0.77,  0.35, -0.04, -0.65, -0.4 ,  0.33, -0.17, -0.07,  0.19,\n",
       "        0.7 , -0.47,  0.39,  0.75,  0.03, -0.35, -0.01,  0.82,  0.26,\n",
       "       -0.15,  0.33, -0.45,  0.47, -0.18,  0.84,  0.63, -0.88, -0.93,\n",
       "       -0.62,  0.65,  0.44, -0.37, -0.93,  0.15,  0.88,  0.25,  0.28,\n",
       "       -0.22, -0.87,  0.27, -0.66,  0.11,  0.82,  0.38,  0.07,  0.24,\n",
       "        0.75,  0.38, -0.31,  1.  , -0.26,  0.79, -0.47,  0.99,  0.33,\n",
       "       -0.3 ,  0.85,  0.95,  0.29,  0.25,  0.49, -0.37,  0.84,  0.27,\n",
       "       -0.27, -0.13,  0.84, -0.54, -0.13, -0.32,  0.22,  0.61, -0.42,\n",
       "       -0.95, -0.18, -0.32, -0.39,  0.24,  0.31,  0.1 , -0.58,  0.54,\n",
       "        0.39,  0.09,  0.03,  0.74, -0.89,  0.94, -0.41, -0.86, -0.35,\n",
       "       -0.23, -0.72, -0.79,  0.54,  0.64,  0.27, -0.32,  0.06, -0.76,\n",
       "        0.69, -0.82, -0.02, -0.79, -0.2 ,  0.55,  0.24,  0.09,  0.4 ,\n",
       "       -0.55,  0.07,  0.42, -0.3 , -0.18, -0.77,  0.29,  0.34, -0.2 ,\n",
       "        0.87,  0.63,  0.95, -0.25,  0.91,  0.32, -0.89,  0.98, -0.95,\n",
       "       -0.32, -0.14,  0.43, -0.32, -0.83,  0.36,  0.55, -0.94, -0.2 ,\n",
       "       -0.34, -0.9 , -0.51, -0.2 ,  0.92, -0.06,  0.3 ,  0.66,  0.28,\n",
       "       -0.67, -0.24,  0.79,  0.32, -0.86,  0.36, -0.83,  0.34,  0.34,\n",
       "       -0.1 , -0.21, -0.49, -0.39, -0.45,  0.71, -0.2 , -0.19,  0.39,\n",
       "        0.64, -0.6 ,  0.28, -0.3 ,  0.91, -0.24,  0.43, -0.31, -0.78,\n",
       "        0.55,  0.88,  0.47, -0.98,  0.65, -0.44])"
      ]
     },
     "execution_count": 24,
     "metadata": {},
     "output_type": "execute_result"
    }
   ],
   "source": [
    "len_ranges = 222\n",
    "scan_ranges = np.round( (np.random.rand(len_ranges) * 2 - 1), decimals=2)\n",
    "scan_ranges"
   ]
  },
  {
   "cell_type": "code",
   "execution_count": 26,
   "id": "28ceaf00",
   "metadata": {},
   "outputs": [
    {
     "data": {
      "text/plain": [
       "<matplotlib.collections.PathCollection at 0x2236e8f6370>"
      ]
     },
     "execution_count": 26,
     "metadata": {},
     "output_type": "execute_result"
    },
    {
     "data": {
      "image/png": "[encoded data removed]",
      "text/plain": [
       "<Figure size 640x480 with 1 Axes>"
      ]
     },
     "metadata": {},
     "output_type": "display_data"
    }
   ],
   "source": [
    "def get_coordinates(ranges):\n",
    "    \n",
    "    origin = (0,0)\n",
    "    \n",
    "    # angle per point\n",
    "    ang = (2 * np.pi) / len(ranges) \n",
    "    \n",
    "    coords = np.zeros((len(ranges), 3))\n",
    "    \n",
    "    for idx, l in enumerate(ranges):\n",
    "        theta = idx * ang\n",
    "        x = np.sin(theta) * l\n",
    "        y = np.cos(theta) * l\n",
    "        \n",
    "        \n",
    "        coords[idx] = [x, y, theta]\n",
    "        \n",
    "    return coords\n",
    "\n",
    "coords = get_coordinates(scan_ranges)\n",
    "plt.scatter(coords[:,0], coords[:,1])\n",
    "    \n",
    "    "
   ]
  },
  {
   "cell_type": "code",
   "execution_count": null,
   "id": "ba191e68",
   "metadata": {},
   "outputs": [],
   "source": [
    "plt.scatter()"
   ]
  },
  {
   "cell_type": "markdown",
   "id": "260156e2",
   "metadata": {},
   "source": [
    "------"
   ]
  },
  {
   "cell_type": "code",
   "execution_count": 65,
   "id": "1bc26323",
   "metadata": {},
   "outputs": [],
   "source": [
    "SIR_f = SIR()"
   ]
  },
  {
   "cell_type": "code",
   "execution_count": 66,
   "id": "4042cb38",
   "metadata": {},
   "outputs": [],
   "source": [
    "samples = np.random.normal(loc=0, scale=5, size=1000)\n",
    "SIR_f.filter(np.random.normal(loc=0, scale=5, size=1000))"
   ]
  },
  {
   "cell_type": "code",
   "execution_count": 69,
   "id": "40e96159",
   "metadata": {},
   "outputs": [
    {
     "data": {
      "text/plain": [
       "1000"
      ]
     },
     "execution_count": 69,
     "metadata": {},
     "output_type": "execute_result"
    }
   ],
   "source": [
    "len(samples)"
   ]
  },
  {
   "cell_type": "code",
   "execution_count": 48,
   "id": "ec6c918b",
   "metadata": {},
   "outputs": [
    {
     "name": "stdout",
     "output_type": "stream",
     "text": [
      "(0.09999999999999998, 0.5)\n",
      "(0.09999999999999998, 0.3)\n"
     ]
    }
   ],
   "source": [
    "rb_map = RoboMap(2,2)\n",
    "rb_map.add_object(Object())\n",
    "rb_map.add_object(Object())\n",
    "\n",
    "robo = Robot((0.5,0.5), 0.2)\n",
    "print(robo.move(2))\n",
    "robo.rotate(np.pi*1/2)\n",
    "print(robo.move(1))\n"
   ]
  },
  {
   "cell_type": "code",
   "execution_count": 48,
   "id": "b7f5044d",
   "metadata": {},
   "outputs": [],
   "source": [
    "import numpy as np\n",
    "#from mujoco_py import functions\n",
    "from ctypes import c_int, addressof\n",
    "from math import sqrt\n"
   ]
  },
  {
   "cell_type": "code",
   "execution_count": 49,
   "id": "4329f88b",
   "metadata": {},
   "outputs": [
    {
     "ename": "ModuleNotFoundError",
     "evalue": "No module named 'mujoco_py'",
     "output_type": "error",
     "traceback": [
      "\u001b[1;31m---------------------------------------------------------------------------\u001b[0m",
      "\u001b[1;31mModuleNotFoundError\u001b[0m                       Traceback (most recent call last)",
      "\u001b[1;32m~\\AppData\\Local\\Temp/ipykernel_10600/949323050.py\u001b[0m in \u001b[0;36m<module>\u001b[1;34m\u001b[0m\n\u001b[0;32m      1\u001b[0m \u001b[1;32mfrom\u001b[0m \u001b[0mxml\u001b[0m\u001b[1;33m.\u001b[0m\u001b[0mdom\u001b[0m \u001b[1;32mimport\u001b[0m \u001b[0mminidom\u001b[0m\u001b[1;33m\u001b[0m\u001b[1;33m\u001b[0m\u001b[0m\n\u001b[1;32m----> 2\u001b[1;33m \u001b[1;32mfrom\u001b[0m \u001b[0mmujoco_py\u001b[0m\u001b[1;33m.\u001b[0m\u001b[0mutils\u001b[0m \u001b[1;32mimport\u001b[0m \u001b[0mremove_empty_lines\u001b[0m\u001b[1;33m\u001b[0m\u001b[1;33m\u001b[0m\u001b[0m\n\u001b[0m\u001b[0;32m      3\u001b[0m \u001b[1;32mfrom\u001b[0m \u001b[0mmujoco_py\u001b[0m\u001b[1;33m.\u001b[0m\u001b[0mbuilder\u001b[0m \u001b[1;32mimport\u001b[0m \u001b[0mbuild_callback_fn\u001b[0m\u001b[1;33m\u001b[0m\u001b[1;33m\u001b[0m\u001b[0m\n\u001b[0;32m      4\u001b[0m \u001b[1;32mfrom\u001b[0m \u001b[0mthreading\u001b[0m \u001b[1;32mimport\u001b[0m \u001b[0mLock\u001b[0m\u001b[1;33m\u001b[0m\u001b[1;33m\u001b[0m\u001b[0m\n",
      "\u001b[1;31mModuleNotFoundError\u001b[0m: No module named 'mujoco_py'"
     ]
    }
   ],
   "source": [
    "from xml.dom import minidom\n",
    "from mujoco_py.utils import remove_empty_lines\n",
    "from mujoco_py.builder import build_callback_fn\n",
    "from threading import Lock"
   ]
  },
  {
   "cell_type": "code",
   "execution_count": null,
   "id": "f7d6e76e",
   "metadata": {},
   "outputs": [],
   "source": [
    "def ray(self, pnt, vec, include_static_geoms=True, exclude_body=-1, group_filter=None):\n",
    "    \"\"\"\n",
    "    Cast a ray into the scene, and return the first valid geom it intersects.\n",
    "        pnt - origin point of the ray in world coordinates (X Y Z)\n",
    "        vec - direction of the ray in world coordinates (X Y Z)\n",
    "        include_static_geoms - if False, we exclude geoms that are children of worldbody.\n",
    "        exclude_body - if this is a body ID, we exclude all children geoms of this body.\n",
    "        group_filter - a vector of booleans of length const.NGROUP\n",
    "                       which specifies what geom groups (stored in model.geom_group)\n",
    "                       to enable or disable.  If none, all groups are used\n",
    "    Returns (distance, geomid) where\n",
    "        distance - distance along ray until first collision with geom\n",
    "        geomid - id of the geom the ray collided with\n",
    "    If no collision was found in the scene, return (-1, None)\n",
    "    NOTE: sometimes self.forward() needs to be called before self.ray().\n",
    "    See self.ray_fast_group() and self.ray_fast_nogroup() for versions of this call\n",
    "    with more stringent type requirements.\n",
    "    \"\"\"\n",
    "    cdef mjtNum distance\n",
    "    cdef mjtNum[::view.contiguous] pnt_view = pnt\n",
    "    cdef mjtNum[::view.contiguous] vec_view = vec\n",
    "\n",
    "    if group_filter is None:\n",
    "        return self.ray_fast_nogroup(\n",
    "            np.asarray(pnt, dtype=np.float64),\n",
    "            np.asarray(vec, dtype=np.float64),\n",
    "            1 if include_static_geoms else 0,\n",
    "            exclude_body)\n",
    "    else:\n",
    "        return self.ray_fast_group(\n",
    "            np.asarray(pnt, dtype=np.float64),\n",
    "            np.asarray(vec, dtype=np.float64),\n",
    "            np.asarray(group_filter, dtype=np.uint8),\n",
    "            1 if include_static_geoms else 0,\n",
    "            exclude_body)\n",
    "\n",
    "def ray_fast_group(self,\n",
    "        np.ndarray[np.float64_t, mode=\"c\", ndim=1] pnt,\n",
    "        np.ndarray[np.float64_t, mode=\"c\", ndim=1] vec,\n",
    "        np.ndarray[np.uint8_t, mode=\"c\", ndim=1] geomgroup,\n",
    "        mjtByte flg_static=1,\n",
    "        int bodyexclude=-1):\n",
    "    \"\"\"\n",
    "    Faster version of sim.ray(), which avoids extra copies,\n",
    "    but needs to be given all the correct type arrays.\n",
    "    See self.ray() for explanation of arguments\n",
    "    \"\"\"\n",
    "    cdef int geomid\n",
    "    cdef mjtNum distance\n",
    "    cdef mjtNum[::view.contiguous] pnt_view = pnt\n",
    "    cdef mjtNum[::view.contiguous] vec_view = vec\n",
    "    cdef mjtByte[::view.contiguous] geomgroup_view = geomgroup\n",
    "\n",
    "    distance = mj_ray(self.model.ptr,\n",
    "                      self.data.ptr,\n",
    "                      &pnt_view[0],\n",
    "                      &vec_view[0],\n",
    "                      &geomgroup_view[0],\n",
    "                      flg_static,\n",
    "                      bodyexclude,\n",
    "                      &geomid)\n",
    "    return (distance, geomid)"
   ]
  },
  {
   "cell_type": "code",
   "execution_count": null,
   "id": "c58ed2d4",
   "metadata": {},
   "outputs": [],
   "source": [
    "\n",
    "\n",
    "def raycast(sim, geom1_id=None, geom2_id=None, pt1=None, pt2=None, geom_group=None):\n",
    "    '''\n",
    "        Given a mujoco sim, from a geom to a geom, point to a point\n",
    "        Args:\n",
    "            sim: Mujoco sim object\n",
    "            geom1 (int), id of geom ray originates from\n",
    "            geom2 (int), id of geom ray points to\n",
    "            p1 (np.ndarray[3]): 3D point ray originates from\n",
    "            p2 (np.ndarray[3]): 3D point ray points to\n",
    "            geom_group: one-hot list determining which of the five geom groups\n",
    "                        should be visible to the raycast\n",
    "    '''\n",
    "    assert (geom1_id is None) != (pt1 is None), \"geom1_id or p1 must be specified\"\n",
    "    assert (geom2_id is None) != (pt2 is None), \"geom2_id or p2 must be specified\"\n",
    "    if geom1_id is not None:\n",
    "        pt1 = sim.data.geom_xpos[geom1_id]\n",
    "        body1 = sim.model.geom_bodyid[geom1_id]\n",
    "    else:\n",
    "        # Don't exclude any bodies if we originate ray from a point\n",
    "        body1 = np.max(sim.model.geom_bodyid) + 1\n",
    "    if geom2_id is not None:\n",
    "        pt2 = sim.data.geom_xpos[geom2_id]\n",
    "\n",
    "    ray_direction = pt2 - pt1\n",
    "    ray_direction /= sqrt(ray_direction[0] ** 2 + ray_direction[1] ** 2 + ray_direction[2] ** 2)\n",
    "\n",
    "    if geom_group is not None:\n",
    "        geom_group = np.array(geom_group).astype(np.uint8)\n",
    "    else:\n",
    "        geom_group = np.array([1, 1, 1, 1, 1]).astype(np.uint8)  # This is the default geom group\n",
    "\n",
    "    # Setup int array\n",
    "    c_arr = (c_int*1)(0)\n",
    "    dist = functions.mj_ray(sim.model,\n",
    "                            sim.data,\n",
    "                            pt1,\n",
    "                            ray_direction,\n",
    "                            geom_group,\n",
    "                            np.array([[0]]).astype(np.uint8),  # flg_static. TODO idk what this is\n",
    "                            body1,  # Bodyid to exclude\n",
    "                            addressof(c_arr))\n",
    "    collision_geom = c_arr[0] if c_arr[0] != -1 else None\n",
    "    return dist, collision_geom"
   ]
  },
  {
   "cell_type": "code",
   "execution_count": null,
   "id": "86911adb",
   "metadata": {},
   "outputs": [],
   "source": []
  },
  {
   "cell_type": "code",
   "execution_count": 5,
   "id": "2591f312",
   "metadata": {},
   "outputs": [
    {
     "data": {
      "text/plain": [
       "2.718281828459045"
      ]
     },
     "execution_count": 5,
     "metadata": {},
     "output_type": "execute_result"
    }
   ],
   "source": [
    "import numpy as np\n",
    "np.e"
   ]
  },
  {
   "cell_type": "markdown",
   "id": "5babd590",
   "metadata": {},
   "source": [
    "## Le Particle Filteroni "
   ]
  },
  {
   "cell_type": "code",
   "execution_count": 13,
   "id": "2f3fef32",
   "metadata": {},
   "outputs": [],
   "source": [
    "def model(x, t, nu=np.random.gamma, nu_shape=3, nu_scale=2, phi=0.5, omega=4*np.e-2):\n",
    "    \"\"\"\n",
    "    x: obligatory - input data from t-1\n",
    "    t: obligatory - current time step\n",
    "    nu: gamma distribution\n",
    "    nu: gamma distribution shape\n",
    "    nu: gamma distribution scale\n",
    "    phi: scalar initialized as 0.5 as given in paper\n",
    "    omega: scalar initialized as 0.5 as given in paper\n",
    "    \"\"\"\n",
    "    y = 0x\n",
    "    n = np.random.normal\n",
    "    x_new = 1 + np.sin(omega * np.pi * t) + nu(nu_shape, nu_scale)\n",
    "    if t <= 30:\n",
    "        y = phi * x**2 + n(0,1) #nu(nu_shape, nu_scale)\n",
    "    else:\n",
    "        y = phi * x - 2 + n(0,1) #nu(nu_shape, nu_scale)\n",
    "        \n",
    "    return x_new, y\n",
    "    \n",
    "    "
   ]
  },
  {
   "cell_type": "code",
   "execution_count": 14,
   "id": "51b87949",
   "metadata": {},
   "outputs": [
    {
     "data": {
      "text/plain": [
       "(8.06111300515747, 0.25318642914891876)"
      ]
     },
     "execution_count": 14,
     "metadata": {},
     "output_type": "execute_result"
    }
   ],
   "source": [
    "model(1,0)"
   ]
  },
  {
   "cell_type": "code",
   "execution_count": null,
   "id": "4bccc6a6",
   "metadata": {},
   "outputs": [],
   "source": [
    "def SIR(prior, N):\n",
    "    \n",
    "    for i in range(N)"
   ]
  }
 ],
 "metadata": {
  "kernelspec": {
   "display_name": "Python 3 (ipykernel)",
   "language": "python",
   "name": "python3"
  },
  "language_info": {
   "codemirror_mode": {
    "name": "ipython",
    "version": 3
   },
   "file_extension": ".py",
   "mimetype": "text/x-python",
   "name": "python",
   "nbconvert_exporter": "python",
   "pygments_lexer": "ipython3",
   "version": "3.9.16"
  }
 },
 "nbformat": 4,
 "nbformat_minor": 5
}
